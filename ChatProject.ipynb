{
  "nbformat": 4,
  "nbformat_minor": 0,
  "metadata": {
    "colab": {
      "provenance": [],
      "authorship_tag": "ABX9TyOx/e7zNQFM/HEUVXAkYmA8",
      "include_colab_link": true
    },
    "kernelspec": {
      "name": "python3",
      "display_name": "Python 3"
    },
    "language_info": {
      "name": "python"
    }
  },
  "cells": [
    {
      "cell_type": "markdown",
      "metadata": {
        "id": "view-in-github",
        "colab_type": "text"
      },
      "source": [
        "<a href=\"https://colab.research.google.com/github/TB-Pereira/Projeto_ChatProject_IA_Alura_Google/blob/main/ChatProject.ipynb\" target=\"_parent\"><img src=\"https://colab.research.google.com/assets/colab-badge.svg\" alt=\"Open In Colab\"/></a>"
      ]
    },
    {
      "cell_type": "code",
      "source": [
        "#Instalando o SDK para utilizar o Gemini\n",
        "!pip install -q -U google-generativeai"
      ],
      "metadata": {
        "id": "IEWzVftUFD8h"
      },
      "execution_count": 1,
      "outputs": []
    },
    {
      "cell_type": "code",
      "source": [
        "#Importação das bibliotecas e adicionando API KEY do Gemini\n",
        "\n",
        "import google.generativeai as genai\n",
        "import textwrap\n",
        "\n",
        "from IPython.display import display\n",
        "from IPython.display import Markdown\n",
        "from google.colab import userdata\n",
        "\n",
        "api_key = userdata.get(\"SECRET_KEY\")\n",
        "genai.configure(api_key=api_key)\n"
      ],
      "metadata": {
        "id": "dnFAR3EHFYtI"
      },
      "execution_count": 15,
      "outputs": []
    },
    {
      "cell_type": "code",
      "source": [
        "#Inicializando o modelo generativo (pode ser alterado para outras versões do Gemini)\n",
        "model = genai.GenerativeModel('gemini-1.5-pro-latest')"
      ],
      "metadata": {
        "id": "i29SdN2DGuBE"
      },
      "execution_count": 16,
      "outputs": []
    },
    {
      "cell_type": "code",
      "source": [
        "#Obtendo as informações do projeto\n",
        "objetivo = input(\"Informe o objetivo do projeto: \")\n",
        "escopo = input(\"Informe qual o escopo você será responsável por gerenciar: \")\n",
        "prazo = input(\"Informe qual o prazo ou expectativa esperada para esse projeto: \")"
      ],
      "metadata": {
        "colab": {
          "base_uri": "https://localhost:8080/"
        },
        "id": "YNeII-p9GxHg",
        "outputId": "99558a1c-ce77-43ce-fdbc-e8eba4d59139"
      },
      "execution_count": 17,
      "outputs": [
        {
          "name": "stdout",
          "output_type": "stream",
          "text": [
            "Informe o objetivo do projeto: Construção de uma casa, para 1 casal com 2 filhos e 1 cachorro.\n",
            "Informe qual o escopo você será responsável por gerenciar: Serei responsável pelo escopo de compra do terreno, documentação junto a prefeitura, contratação dos prestadores de serviço, construção da casa e entrega aos proprietários\n",
            "Informe qual o prazo ou expectativa esperada para esse projeto: 1 ano\n"
          ]
        }
      ]
    },
    {
      "cell_type": "code",
      "source": [
        "#Criando o modelo e gerando o retorno\n",
        "response = model.generate_content(f\"Com base no {objetivo}, {escopo} e {prazo} crie um plano macro de projeto, contendo as principais atividades, planejamento, execução e riscos e plano de mitigação\")"
      ],
      "metadata": {
        "id": "aKLA35DBHE23"
      },
      "execution_count": 21,
      "outputs": []
    },
    {
      "cell_type": "code",
      "source": [
        "#Formatação do retorno\n",
        "def to_markdown(text):\n",
        "  text = text.replace('•', '  *')\n",
        "  return Markdown(textwrap.indent(text, '> ', predicate=lambda _: True))"
      ],
      "metadata": {
        "id": "uOKyG6oIHiqt"
      },
      "execution_count": 22,
      "outputs": []
    },
    {
      "cell_type": "code",
      "source": [
        "#Exibição do Plano Macro do Projeto\n",
        "display(to_markdown(response.text))"
      ],
      "metadata": {
        "colab": {
          "base_uri": "https://localhost:8080/",
          "height": 1000
        },
        "id": "8Aaz3IBhHmRR",
        "outputId": "edc3e3e7-996b-43d6-e12b-cc6dc134cf37"
      },
      "execution_count": 23,
      "outputs": [
        {
          "output_type": "display_data",
          "data": {
            "text/plain": [
              "<IPython.core.display.Markdown object>"
            ],
            "text/markdown": "> ## Plano Macro de Projeto: Construção de Casa para Família\n> \n> **Objetivo:** Construir uma casa para um casal com 2 filhos e 1 cachorro, gerenciando todas as etapas, desde a compra do terreno até a entrega final e acompanhamento por 1 ano.\n> \n> **Escopo:**\n> \n> *   Compra do terreno\n> *   Documentação e aprovação junto à prefeitura\n> *   Contratação de arquiteto, engenheiro e empreiteira\n> *   Construção da casa (fundação, estrutura, alvenaria, telhado, instalações, acabamentos)\n> *   Paisagismo e áreas externas\n> *   Entrega da casa aos proprietários\n> *   Acompanhamento e suporte por 1 ano\n> \n> **Fases do Projeto:**\n> \n> 1.  **Planejamento (2-3 meses):**\n>     *   **Definição de necessidades e orçamento:** Reuniões com a família para entender as necessidades, desejos e orçamento disponível. \n>     *   **Busca e seleção do terreno:** Pesquisa de terrenos disponíveis, considerando localização, tamanho, topografia e preço.\n>     *   **Contratação de profissionais:** Seleção e contratação de arquiteto, engenheiro e empreiteira.\n>     *   **Projeto arquitetônico e aprovações:** Desenvolvimento do projeto da casa e obtenção das aprovações necessárias junto à prefeitura.\n>     *   **Planejamento financeiro:** Definição do orçamento detalhado e cronograma de desembolsos.\n>     *   **Plano de comunicação:** Estabelecimento de canais e frequência de comunicação com a família.\n> \n> 2.  **Execução (8-12 meses):**\n>     *   **Preparação do terreno:** Limpeza, terraplanagem e fundações.\n>     *   **Construção da estrutura:** Paredes, lajes, telhado.\n>     *   **Instalações:** Elétrica, hidráulica, esgoto, gás.\n>     *   **Acabamentos:** Pisos, revestimentos, pintura, esquadrias.\n>     *   **Paisagismo e áreas externas:** Jardim, quintal, piscina (se houver).\n> \n> 3.  **Entrega e Acompanhamento (1 ano):**\n>     *   **Vistoria e entrega das chaves:** Verificação final da casa com a família e entrega das chaves.\n>     *   **Suporte pós-obra:** Acompanhamento e resolução de eventuais problemas que surjam no primeiro ano.\n> \n> **Principais Riscos e Mitigação:**\n> \n> | **Risco**                 | **Mitigação**                                                                    |\n> | :----------------------- | :----------------------------------------------------------------------------- |\n> | Atrasos na obra           | Cronograma detalhado, acompanhamento constante e comunicação clara com a equipe. |\n> | Aumento de custos        | Orçamento preciso, pesquisa de preços e cláusulas contratuais claras.           |\n> | Problemas com o terreno  | Estudo do solo e topografia antes da compra.                                    |\n> | Desentendimentos com a família | Comunicação clara, gestão de expectativas e documentação de todas as decisões. |\n> | Falhas na construção      | Contratação de profissionais qualificados e fiscalização rigorosa da obra.       |\n> \n> **Ferramentas de Gerenciamento:**\n> \n> *   Software de gerenciamento de projetos (ex: MS Project, Asana)\n> *   Planilhas de controle de orçamento e cronograma\n> *   Aplicativos de comunicação (ex: WhatsApp, Telegram)\n> *   Plataforma de armazenamento de documentos (ex: Google Drive, Dropbox)\n> \n> **Comunicação:**\n> \n> *   Reuniões periódicas com a família para atualização do andamento do projeto.\n> *   Relatórios de progresso enviados por e-mail ou plataforma de gerenciamento de projetos.\n> *   Canal de comunicação direto para esclarecimento de dúvidas e resolução de problemas.\n> \n> **Sucesso do Projeto:**\n> \n> O sucesso do projeto será medido pela satisfação da família com a casa construída, o cumprimento do prazo e orçamento estabelecidos e a ausência de problemas significativos durante o primeiro ano de uso. \n"
          },
          "metadata": {}
        }
      ]
    },
    {
      "cell_type": "code",
      "source": [
        "# Funções para perguntas adicionais sobre alterações no resultado do Plano do Projeto\n",
        "def pergunte_sobre_detalhes_escopo(objetivo, escopo):\n",
        "    detalhes_adicionais_escopo = input(\"Você gostaria de informar ou  alterar alguma coisa sobre o escopo do projeto? (Sim/Não): \")\n",
        "\n",
        "    if detalhes_adicionais_escopo.lower() == \"sim\":\n",
        "        mais_detalhes_escopo = input(\"Forneça mais detalhes sobre o escopo ou o que deseja alterar no projeto: \")\n",
        "        escopo_atualizado = escopo + \" \" + mais_detalhes_escopo\n",
        "    else:\n",
        "        escopo_atualizado = escopo\n",
        "\n",
        "    return escopo_atualizado\n",
        "\n",
        "def pergunte_sobre_cronograma_projeto():\n",
        "    prazo_projeto = input(\"Deseja alterar algo no cronograma? (Sim/Não): \")\n",
        "\n",
        "    if prazo_projeto.lower() == \"sim\":\n",
        "        mais_detalhes_prazo = input(\"Forneça mais detalhes sobre o que deseja alterar do cronograma inicial apresentado: \")\n",
        "        prazo_projeto = prazo + \" \" + mais_detalhes_prazo\n",
        "    else:\n",
        "        prazo_projeto = prazo\n",
        "\n",
        "    return prazo_projeto\n",
        "\n",
        "# Perguntas adicionais e atualização do plano\n",
        "escopo_atualizado = pergunte_sobre_detalhes_escopo(objetivo, escopo)\n",
        "prazo_projeto = pergunte_sobre_cronograma_projeto()\n",
        "\n",
        "# Gera o plano atualizado com detalhes adicionais\n",
        "plano_atualizado = model.generate_content(f\"Com base no {objetivo}, {escopo_atualizado} e considerando um prazo de {prazo_projeto}, crie um plano macro de projeto atualizado, contendo as principais atividades, riscos\")\n",
        "\n",
        "# Formata e exibe o plano do projeto atualizado\n",
        "plano_atualizado_formatado = to_markdown(plano_atualizado.text)\n",
        "display(plano_atualizado_formatado)"
      ],
      "metadata": {
        "colab": {
          "base_uri": "https://localhost:8080/",
          "height": 1000
        },
        "id": "FcwkcRs6Nuuq",
        "outputId": "0f68f77a-fe34-4698-ecba-8c4c1081e008"
      },
      "execution_count": 24,
      "outputs": [
        {
          "name": "stdout",
          "output_type": "stream",
          "text": [
            "Você gostaria de informar ou  alterar alguma coisa sobre o escopo do projeto? (Sim/Não): Sim\n",
            "Forneça mais detalhes sobre o escopo ou o que deseja alterar no projeto: Incluir uma piscina\n",
            "Deseja alterar algo no cronograma? (Sim/Não): Sim\n",
            "Forneça mais detalhes sobre o que deseja alterar do cronograma inicial apresentado: Considerar o prazo total de até 12 meses\n"
          ]
        },
        {
          "output_type": "display_data",
          "data": {
            "text/plain": [
              "<IPython.core.display.Markdown object>"
            ],
            "text/markdown": "> ## Plano Macro de Projeto: Construção de Casa com Piscina (12 meses)\n> \n> **Objetivo:** Construir uma casa para um casal com 2 filhos e 1 cachorro, incluindo uma piscina, em um prazo de 12 meses.\n> \n> **Escopo:**\n> \n> * Compra do terreno\n> * Documentação junto à prefeitura\n> * Contratação dos prestadores de serviço (arquiteto, engenheiro, pedreiro, eletricista, encanador, etc.)\n> * Construção da casa (fundação, estrutura, alvenaria, telhado, acabamentos)\n> * Construção da piscina\n> * Entrega da casa aos proprietários\n> \n> **Principais Atividades:**\n> \n> **Fase 1: Planejamento e Aprovações (2 meses)**\n> \n> * **Aquisição do terreno:** Pesquisa de terrenos, negociação e compra.\n> * **Documentação:** Regularização do terreno, obtenção de alvarás e licenças de construção junto à prefeitura.\n> * **Projeto Arquitetônico:** Contratação de arquiteto, desenvolvimento e aprovação do projeto da casa e da piscina.\n> * **Projeto Estrutural:** Contratação de engenheiro, desenvolvimento do projeto estrutural.\n> * **Orçamento:** Definição do orçamento total da obra, incluindo materiais, mão de obra e equipamentos.\n> * **Contratação:** Seleção e contratação dos prestadores de serviço.\n> \n> **Fase 2: Construção (8 meses)**\n> \n> * **Fundação:** Preparação do terreno, escavação e construção da fundação.\n> * **Estrutura:** Montagem da estrutura da casa (pilares, vigas, lajes).\n> * **Alvenaria:** Levantamento das paredes e muros.\n> * **Telhado:** Instalação da estrutura e cobertura do telhado.\n> * **Instalações:** Instalações elétricas, hidráulicas e de esgoto.\n> * **Acabamentos:** Revestimentos, pisos, pintura, portas, janelas, louças e metais.\n> * **Construção da Piscina:** Escavação, estrutura, impermeabilização, revestimento e instalação dos equipamentos.\n> \n> **Fase 3: Finalização e Entrega (2 meses)**\n> \n> * **Limpeza da obra:** Remoção de entulhos e limpeza geral da casa e da piscina.\n> * **Vistoria:** Realização de vistorias para verificar se a obra está de acordo com o projeto e as normas técnicas.\n> * **Entrega das chaves:** Entrega da casa aos proprietários.\n> \n> **Principais Riscos:**\n> \n> * **Atrasos na aprovação do projeto pela prefeitura:** Podem impactar o cronograma geral da obra.\n> * **Condições climáticas adversas:** Chuvas excessivas podem atrasar a execução da obra.\n> * **Aumento no preço dos materiais de construção:** Pode impactar o orçamento da obra.\n> * **Problemas com a mão de obra:** Falta de mão de obra qualificada ou atrasos na execução dos serviços.\n> * **Erros de projeto ou execução:** Podem gerar retrabalho e aumento dos custos.\n> \n> **Mitigação dos Riscos:**\n> \n> * **Planejamento antecipado:** Iniciar o processo de aprovação do projeto com antecedência.\n> * **Monitoramento do clima:** Acompanhar as previsões meteorológicas e ajustar o cronograma da obra, se necessário.\n> * **Compra antecipada de materiais:** Negociar preços e prazos de entrega com fornecedores.\n> * **Contratação de mão de obra qualificada:** Selecionar profissionais experientes e com boas referências.\n> * **Acompanhamento constante da obra:** Realizar vistorias regulares para identificar e corrigir eventuais problemas.\n> \n> **Observações:**\n> \n> * Este plano macro de projeto é apenas um guia e pode ser ajustado de acordo com as necessidades específicas do projeto.\n> * É importante realizar um planejamento detalhado de cada fase da obra, definindo as atividades, os recursos necessários e o cronograma de execução.\n> * É fundamental contar com o acompanhamento de profissionais qualificados durante todo o processo de construção.\n> \n> **Com um planejamento eficiente e uma gestão de riscos adequada, é possível construir a casa dos seus sonhos dentro do prazo e do orçamento estabelecidos.**\n"
          },
          "metadata": {}
        }
      ]
    }
  ]
}